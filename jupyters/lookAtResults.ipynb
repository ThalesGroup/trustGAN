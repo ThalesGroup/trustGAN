{
 "cells": [
  {
   "cell_type": "raw",
   "metadata": {},
   "source": [
    "# Authors:\n",
    "#   Helion du Mas des Bourboux <helion.dumasdesbourboux'at'thalesgroup.com>\n",
    "#\n",
    "# MIT License\n",
    "#\n",
    "# Copyright (c) 2022 THALES\n",
    "#   All Rights Reserved.\n",
    "#\n",
    "# Permission is hereby granted, free of charge, to any person obtaining a copy\n",
    "# of this software and associated documentation files (the \"Software\"), to deal\n",
    "# in the Software without restriction, including without limitation the rights\n",
    "# to use, copy, modify, merge, publish, distribute, sublicense, and/or sell\n",
    "# copies of the Software, and to permit persons to whom the Software is\n",
    "# furnished to do so, subject to the following conditions:\n",
    "#\n",
    "# The above copyright notice and this permission notice shall be included in all\n",
    "# copies or substantial portions of the Software.\n",
    "#\n",
    "# THE SOFTWARE IS PROVIDED \"AS IS\", WITHOUT WARRANTY OF ANY KIND, EXPRESS OR\n",
    "# IMPLIED, INCLUDING BUT NOT LIMITED TO THE WARRANTIES OF MERCHANTABILITY,\n",
    "# FITNESS FOR A PARTICULAR PURPOSE AND NONINFRINGEMENT. IN NO EVENT SHALL THE\n",
    "# AUTHORS OR COPYRIGHT HOLDERS BE LIABLE FOR ANY CLAIM, DAMAGES OR OTHER\n",
    "# LIABILITY, WHETHER IN AN ACTION OF CONTRACT, TORT OR OTHERWISE, ARISING FROM,\n",
    "# OUT OF OR IN CONNECTION WITH THE SOFTWARE OR THE USE OR OTHER DEALINGS IN THE\n",
    "# SOFTWARE.\n",
    "#\n",
    "# 2022 october 21"
   ]
  },
  {
   "cell_type": "markdown",
   "metadata": {},
   "source": [
    "# Look at the results"
   ]
  },
  {
   "cell_type": "markdown",
   "metadata": {},
   "source": [
    "## Imports"
   ]
  },
  {
   "cell_type": "code",
   "execution_count": null,
   "metadata": {},
   "outputs": [],
   "source": [
    "import os\n",
    "import torch\n",
    "import matplotlib.pyplot as plt"
   ]
  },
  {
   "cell_type": "code",
   "execution_count": null,
   "metadata": {},
   "outputs": [],
   "source": [
    "from trustgan.training import Training"
   ]
  },
  {
   "cell_type": "markdown",
   "metadata": {},
   "source": [
    "## Constants"
   ]
  },
  {
   "cell_type": "code",
   "execution_count": null,
   "metadata": {},
   "outputs": [],
   "source": [
    "path2dataset = \"$HOME/Workspace/mlsecconfops/trustgan/xps/data/MNIST\"\n",
    "nb_classes = 10\n",
    "batch_size = 32\n",
    "network_name = \"Net\"\n",
    "device = \"cuda:2\"\n",
    "verbose = True"
   ]
  },
  {
   "cell_type": "code",
   "execution_count": null,
   "metadata": {},
   "outputs": [],
   "source": [
    "path_to_load_net = \"$HOME/Workspace/mlsecconfops/trustgan/xps/mnist-wo-gan/nets/net-best-valid-loss.pth\"\n",
    "path_to_load_gan = \"$HOME/Workspace/mlsecconfops/trustgan/xps/mnist-wo-gan/gan.pth\""
   ]
  },
  {
   "cell_type": "markdown",
   "metadata": {},
   "source": [
    "## Loot at results"
   ]
  },
  {
   "cell_type": "code",
   "execution_count": null,
   "metadata": {},
   "outputs": [],
   "source": [
    "path2dataset = os.path.expandvars(path2dataset)\n",
    "path_to_load_net = os.path.expandvars(path_to_load_net)\n",
    "path_to_load_gan = os.path.expandvars(path_to_load_gan)"
   ]
  },
  {
   "cell_type": "code",
   "execution_count": null,
   "metadata": {},
   "outputs": [],
   "source": [
    "training_pipeline = Training(\n",
    "    path_to_save=None,\n",
    "    path2dataset=path2dataset,\n",
    "    nb_classes=nb_classes,\n",
    "    num_epochs=None,\n",
    "    nb_step_net_gan=None,\n",
    "    nb_step_gan=None,\n",
    "    nb_step_net_alone=None,\n",
    "    prop_net_alone=None,\n",
    "    path_to_load_net=path_to_load_net,\n",
    "    path_to_load_gan=path_to_load_gan,\n",
    "    batch_size=batch_size,\n",
    "    device_name=device,\n",
    "    verbose=verbose,\n",
    "    path2net=None,\n",
    "    network_name=network_name,\n",
    ")"
   ]
  },
  {
   "cell_type": "code",
   "execution_count": null,
   "metadata": {},
   "outputs": [],
   "source": [
    "training_pipeline.epoch = None"
   ]
  },
  {
   "cell_type": "code",
   "execution_count": null,
   "metadata": {},
   "outputs": [],
   "source": [
    "# training_pipeline.get_example(training_pipeline.validloader)"
   ]
  },
  {
   "cell_type": "code",
   "execution_count": null,
   "metadata": {},
   "outputs": [],
   "source": [
    "training_pipeline.net.eval()\n",
    "\n",
    "inputs, labels = next(iter(training_pipeline.testloader))\n",
    "inputs, labels = inputs.to(training_pipeline.device), labels.to(\n",
    "    training_pipeline.device\n",
    ")\n",
    "inputs, labels = training_pipeline.modifier((inputs, labels))\n",
    "_, labels = torch.max(labels, 1)\n",
    "\n",
    "net_outputs = training_pipeline.net(inputs)\n",
    "\n",
    "net_outputs = torch.nn.functional.softmax(net_outputs, dim=1)\n",
    "score_pred, predicted = torch.max(net_outputs, 1)\n",
    "\n",
    "# if score_pred.ndim > 1:\n",
    "#    score_pred = score_pred.mean(axis=tuple(range(1, score_pred.ndim)))\n",
    "#    predicted = predicted.to(torch.float).mean(\n",
    "#        axis=tuple(range(1, predicted.ndim))\n",
    "#    )\n",
    "#    labels = labels.to(torch.float).mean(axis=tuple(range(1, labels.ndim)))\n",
    "#\n",
    "# idx_min = torch.argmin(score_pred)\n",
    "# idx_max = torch.argmax(score_pred)\n",
    "#\n",
    "# for idx, name in [(idx_min, \"min\"), (idx_max, \"max\")]:\n",
    "#\n",
    "#    images = inputs[idx].cpu().detach().numpy()\n",
    "#\n",
    "# training_pipeline.net.train()"
   ]
  },
  {
   "cell_type": "code",
   "execution_count": null,
   "metadata": {
    "scrolled": false
   },
   "outputs": [],
   "source": [
    "for j in [1]:\n",
    "    X = inputs.detach().cpu()\n",
    "    y = labels.detach().cpu()\n",
    "    y_hat = predicted.detach().cpu()\n",
    "    y_conf = score_pred.detach().cpu()\n",
    "\n",
    "    el = torch.cat([X[j, i, ...][..., None] for i in range(X.shape[1])], axis=-1)\n",
    "    plt.imshow(el)\n",
    "    if y.ndim == 1:\n",
    "        plt.title(int(y[[j]]))\n",
    "    plt.show()\n",
    "\n",
    "    if y.ndim == 3:\n",
    "        plt.imshow(y[j])\n",
    "        plt.show()\n",
    "\n",
    "    if y_hat.ndim == 3:\n",
    "        plt.imshow(y_hat[j])\n",
    "        plt.show()\n",
    "\n",
    "    if y_conf.ndim == 3:\n",
    "        plt.imshow(y_conf[j])\n",
    "        plt.colorbar()\n",
    "        plt.show()"
   ]
  },
  {
   "cell_type": "code",
   "execution_count": null,
   "metadata": {},
   "outputs": [],
   "source": []
  }
 ],
 "metadata": {
  "kernelspec": {
   "display_name": "Python 3",
   "language": "python",
   "name": "python3"
  },
  "language_info": {
   "codemirror_mode": {
    "name": "ipython",
    "version": 3
   },
   "file_extension": ".py",
   "mimetype": "text/x-python",
   "name": "python",
   "nbconvert_exporter": "python",
   "pygments_lexer": "ipython3",
   "version": "3.7.9"
  }
 },
 "nbformat": 4,
 "nbformat_minor": 4
}
